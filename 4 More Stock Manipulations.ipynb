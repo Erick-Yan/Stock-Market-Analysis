{
 "cells": [
  {
   "cell_type": "markdown",
   "metadata": {},
   "source": [
    "# More Stock Manipulations"
   ]
  },
  {
   "cell_type": "code",
   "execution_count": 19,
   "metadata": {},
   "outputs": [],
   "source": [
    "import datetime as dt\n",
    "import matplotlib.pyplot as plt\n",
    "from matplotlib import style\n",
    "from mpl_finance import candlestick_ohlc\n",
    "import matplotlib.dates as mdates\n",
    "import pandas as pd\n",
    "import pandas_datareader.data as web\n",
    "\n",
    "style.use('ggplot')\n",
    "\n",
    "df = pd.read_csv('tsla.csv', parse_dates =True, index_col=0) \n",
    "\n",
    "#df['100ma'] = df['Adj Close'].rolling(window=100, min_periods=0).mean()"
   ]
  },
  {
   "cell_type": "code",
   "execution_count": 24,
   "metadata": {},
   "outputs": [
    {
     "data": {
      "text/html": [
       "<div>\n",
       "<style scoped>\n",
       "    .dataframe tbody tr th:only-of-type {\n",
       "        vertical-align: middle;\n",
       "    }\n",
       "\n",
       "    .dataframe tbody tr th {\n",
       "        vertical-align: top;\n",
       "    }\n",
       "\n",
       "    .dataframe thead th {\n",
       "        text-align: right;\n",
       "    }\n",
       "</style>\n",
       "<table border=\"1\" class=\"dataframe\">\n",
       "  <thead>\n",
       "    <tr style=\"text-align: right;\">\n",
       "      <th></th>\n",
       "      <th>open</th>\n",
       "      <th>high</th>\n",
       "      <th>low</th>\n",
       "      <th>close</th>\n",
       "    </tr>\n",
       "    <tr>\n",
       "      <th>Date</th>\n",
       "      <th></th>\n",
       "      <th></th>\n",
       "      <th></th>\n",
       "      <th></th>\n",
       "    </tr>\n",
       "  </thead>\n",
       "  <tbody>\n",
       "    <tr>\n",
       "      <th>2010-06-29</th>\n",
       "      <td>23.889999</td>\n",
       "      <td>23.889999</td>\n",
       "      <td>15.800000</td>\n",
       "      <td>17.459999</td>\n",
       "    </tr>\n",
       "    <tr>\n",
       "      <th>2010-07-09</th>\n",
       "      <td>17.400000</td>\n",
       "      <td>20.639999</td>\n",
       "      <td>17.049999</td>\n",
       "      <td>20.639999</td>\n",
       "    </tr>\n",
       "    <tr>\n",
       "      <th>2010-07-19</th>\n",
       "      <td>21.910000</td>\n",
       "      <td>21.910000</td>\n",
       "      <td>20.219999</td>\n",
       "      <td>20.719999</td>\n",
       "    </tr>\n",
       "    <tr>\n",
       "      <th>2010-07-29</th>\n",
       "      <td>20.350000</td>\n",
       "      <td>21.950001</td>\n",
       "      <td>19.590000</td>\n",
       "      <td>19.590000</td>\n",
       "    </tr>\n",
       "    <tr>\n",
       "      <th>2010-08-08</th>\n",
       "      <td>19.600000</td>\n",
       "      <td>19.600000</td>\n",
       "      <td>17.600000</td>\n",
       "      <td>19.150000</td>\n",
       "    </tr>\n",
       "  </tbody>\n",
       "</table>\n",
       "</div>"
      ],
      "text/plain": [
       "                 open       high        low      close\n",
       "Date                                                  \n",
       "2010-06-29  23.889999  23.889999  15.800000  17.459999\n",
       "2010-07-09  17.400000  20.639999  17.049999  20.639999\n",
       "2010-07-19  21.910000  21.910000  20.219999  20.719999\n",
       "2010-07-29  20.350000  21.950001  19.590000  19.590000\n",
       "2010-08-08  19.600000  19.600000  17.600000  19.150000"
      ]
     },
     "execution_count": 24,
     "metadata": {},
     "output_type": "execute_result"
    }
   ],
   "source": [
    "df_ohlc = df['Adj Close'].resample('10D').ohlc() #ohlc : open high low close\n",
    "df_volume = df['Volume'].resample('10D').sum()\n",
    "\n",
    "df_ohlc.head()"
   ]
  },
  {
   "cell_type": "markdown",
   "metadata": {},
   "source": [
    "Resampling data allows you to shrink down the amount of data you have into even intervals (ex. every 10 days, 10 hours, etc)\n",
    "- .ohlc() method: gathers the sums of the open high low and close values"
   ]
  },
  {
   "cell_type": "code",
   "execution_count": 21,
   "metadata": {},
   "outputs": [
    {
     "data": {
      "text/html": [
       "<div>\n",
       "<style scoped>\n",
       "    .dataframe tbody tr th:only-of-type {\n",
       "        vertical-align: middle;\n",
       "    }\n",
       "\n",
       "    .dataframe tbody tr th {\n",
       "        vertical-align: top;\n",
       "    }\n",
       "\n",
       "    .dataframe thead th {\n",
       "        text-align: right;\n",
       "    }\n",
       "</style>\n",
       "<table border=\"1\" class=\"dataframe\">\n",
       "  <thead>\n",
       "    <tr style=\"text-align: right;\">\n",
       "      <th></th>\n",
       "      <th>Date</th>\n",
       "      <th>open</th>\n",
       "      <th>high</th>\n",
       "      <th>low</th>\n",
       "      <th>close</th>\n",
       "    </tr>\n",
       "  </thead>\n",
       "  <tbody>\n",
       "    <tr>\n",
       "      <th>0</th>\n",
       "      <td>2010-06-29</td>\n",
       "      <td>23.889999</td>\n",
       "      <td>23.889999</td>\n",
       "      <td>15.800000</td>\n",
       "      <td>17.459999</td>\n",
       "    </tr>\n",
       "    <tr>\n",
       "      <th>1</th>\n",
       "      <td>2010-07-09</td>\n",
       "      <td>17.400000</td>\n",
       "      <td>20.639999</td>\n",
       "      <td>17.049999</td>\n",
       "      <td>20.639999</td>\n",
       "    </tr>\n",
       "    <tr>\n",
       "      <th>2</th>\n",
       "      <td>2010-07-19</td>\n",
       "      <td>21.910000</td>\n",
       "      <td>21.910000</td>\n",
       "      <td>20.219999</td>\n",
       "      <td>20.719999</td>\n",
       "    </tr>\n",
       "    <tr>\n",
       "      <th>3</th>\n",
       "      <td>2010-07-29</td>\n",
       "      <td>20.350000</td>\n",
       "      <td>21.950001</td>\n",
       "      <td>19.590000</td>\n",
       "      <td>19.590000</td>\n",
       "    </tr>\n",
       "    <tr>\n",
       "      <th>4</th>\n",
       "      <td>2010-08-08</td>\n",
       "      <td>19.600000</td>\n",
       "      <td>19.600000</td>\n",
       "      <td>17.600000</td>\n",
       "      <td>19.150000</td>\n",
       "    </tr>\n",
       "  </tbody>\n",
       "</table>\n",
       "</div>"
      ],
      "text/plain": [
       "        Date       open       high        low      close\n",
       "0 2010-06-29  23.889999  23.889999  15.800000  17.459999\n",
       "1 2010-07-09  17.400000  20.639999  17.049999  20.639999\n",
       "2 2010-07-19  21.910000  21.910000  20.219999  20.719999\n",
       "3 2010-07-29  20.350000  21.950001  19.590000  19.590000\n",
       "4 2010-08-08  19.600000  19.600000  17.600000  19.150000"
      ]
     },
     "execution_count": 21,
     "metadata": {},
     "output_type": "execute_result"
    }
   ],
   "source": [
    "df_ohlc.reset_index(inplace=True)\n",
    "df_ohlc.head()"
   ]
  },
  {
   "cell_type": "code",
   "execution_count": 22,
   "metadata": {},
   "outputs": [
    {
     "data": {
      "text/html": [
       "<div>\n",
       "<style scoped>\n",
       "    .dataframe tbody tr th:only-of-type {\n",
       "        vertical-align: middle;\n",
       "    }\n",
       "\n",
       "    .dataframe tbody tr th {\n",
       "        vertical-align: top;\n",
       "    }\n",
       "\n",
       "    .dataframe thead th {\n",
       "        text-align: right;\n",
       "    }\n",
       "</style>\n",
       "<table border=\"1\" class=\"dataframe\">\n",
       "  <thead>\n",
       "    <tr style=\"text-align: right;\">\n",
       "      <th></th>\n",
       "      <th>Date</th>\n",
       "      <th>open</th>\n",
       "      <th>high</th>\n",
       "      <th>low</th>\n",
       "      <th>close</th>\n",
       "    </tr>\n",
       "  </thead>\n",
       "  <tbody>\n",
       "    <tr>\n",
       "      <th>0</th>\n",
       "      <td>733952.0</td>\n",
       "      <td>23.889999</td>\n",
       "      <td>23.889999</td>\n",
       "      <td>15.800000</td>\n",
       "      <td>17.459999</td>\n",
       "    </tr>\n",
       "    <tr>\n",
       "      <th>1</th>\n",
       "      <td>733962.0</td>\n",
       "      <td>17.400000</td>\n",
       "      <td>20.639999</td>\n",
       "      <td>17.049999</td>\n",
       "      <td>20.639999</td>\n",
       "    </tr>\n",
       "    <tr>\n",
       "      <th>2</th>\n",
       "      <td>733972.0</td>\n",
       "      <td>21.910000</td>\n",
       "      <td>21.910000</td>\n",
       "      <td>20.219999</td>\n",
       "      <td>20.719999</td>\n",
       "    </tr>\n",
       "    <tr>\n",
       "      <th>3</th>\n",
       "      <td>733982.0</td>\n",
       "      <td>20.350000</td>\n",
       "      <td>21.950001</td>\n",
       "      <td>19.590000</td>\n",
       "      <td>19.590000</td>\n",
       "    </tr>\n",
       "    <tr>\n",
       "      <th>4</th>\n",
       "      <td>733992.0</td>\n",
       "      <td>19.600000</td>\n",
       "      <td>19.600000</td>\n",
       "      <td>17.600000</td>\n",
       "      <td>19.150000</td>\n",
       "    </tr>\n",
       "  </tbody>\n",
       "</table>\n",
       "</div>"
      ],
      "text/plain": [
       "       Date       open       high        low      close\n",
       "0  733952.0  23.889999  23.889999  15.800000  17.459999\n",
       "1  733962.0  17.400000  20.639999  17.049999  20.639999\n",
       "2  733972.0  21.910000  21.910000  20.219999  20.719999\n",
       "3  733982.0  20.350000  21.950001  19.590000  19.590000\n",
       "4  733992.0  19.600000  19.600000  17.600000  19.150000"
      ]
     },
     "execution_count": 22,
     "metadata": {},
     "output_type": "execute_result"
    }
   ],
   "source": [
    "df_ohlc['Date'] = df_ohlc['Date'].map(mdates.date2num)\n",
    "df_ohlc.head()"
   ]
  },
  {
   "cell_type": "code",
   "execution_count": 26,
   "metadata": {},
   "outputs": [
    {
     "data": {
      "text/plain": [
       "array([[ 23.88999939,  23.88999939,  15.80000019,  17.45999908],\n",
       "       [ 17.39999962,  20.63999939,  17.04999924,  20.63999939],\n",
       "       [ 21.90999985,  21.90999985,  20.21999931,  20.71999931],\n",
       "       ...,\n",
       "       [339.52999878, 393.1499939 , 339.52999878, 393.1499939 ],\n",
       "       [404.04000854, 430.94000244, 404.04000854, 430.38000488],\n",
       "       [414.70001221, 418.32998657, 414.70001221, 418.32998657]])"
      ]
     },
     "execution_count": 26,
     "metadata": {},
     "output_type": "execute_result"
    }
   ],
   "source": [
    "df_ohlc.values"
   ]
  },
  {
   "cell_type": "markdown",
   "metadata": {},
   "source": [
    "Mapping: allows you to map new values into a series (column) of data depending on the input/argument\n",
    "\n",
    "mdates.date2num: converts the date into a raw number that can be plotted chronologically with matplotlib"
   ]
  },
  {
   "cell_type": "code",
   "execution_count": 23,
   "metadata": {},
   "outputs": [
    {
     "data": {
      "text/plain": [
       "<matplotlib.collections.PolyCollection at 0x19278ae0408>"
      ]
     },
     "execution_count": 23,
     "metadata": {},
     "output_type": "execute_result"
    },
    {
     "data": {
      "image/png": "[encoded data removed]",
      "text/plain": [
       "<Figure size 432x288 with 2 Axes>"
      ]
     },
     "metadata": {},
     "output_type": "display_data"
    }
   ],
   "source": [
    "ax1 = plt.subplot2grid((6, 1), (0, 0), rowspan=5, colspan=1)\n",
    "ax2 = plt.subplot2grid((6, 1), (5, 0), rowspan=1, colspan=1, sharex=ax1)\n",
    "ax1.xaxis_date()\n",
    "\n",
    "candlestick_ohlc(ax1, df_ohlc.values, width=2, colorup='g')\n",
    "ax2.fill_between(df_volume.index.map(mdates.date2num), df_volume.values, 0)"
   ]
  },
  {
   "cell_type": "code",
   "execution_count": null,
   "metadata": {},
   "outputs": [],
   "source": []
  }
 ],
 "metadata": {
  "kernelspec": {
   "display_name": "Python 3",
   "language": "python",
   "name": "python3"
  },
  "language_info": {
   "codemirror_mode": {
    "name": "ipython",
    "version": 3
   },
   "file_extension": ".py",
   "mimetype": "text/x-python",
   "name": "python",
   "nbconvert_exporter": "python",
   "pygments_lexer": "ipython3",
   "version": "3.7.6"
  }
 },
 "nbformat": 4,
 "nbformat_minor": 4
}
